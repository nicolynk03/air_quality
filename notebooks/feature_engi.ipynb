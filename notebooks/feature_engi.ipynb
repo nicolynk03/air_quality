{
 "cells": [
  {
   "cell_type": "markdown",
   "id": "687807d0",
   "metadata": {},
   "source": [
    "Feature Engineering"
   ]
  },
  {
   "cell_type": "code",
   "execution_count": 4,
   "id": "b204b6f9",
   "metadata": {},
   "outputs": [
    {
     "name": "stdout",
     "output_type": "stream",
     "text": [
      "            Date  Country                          Status  AQI Value\n",
      "0     2022-07-21  Albania                            Good         14\n",
      "142   2022-07-21  Albania                            Good         17\n",
      "284   2022-07-22  Albania                            Good         15\n",
      "425   2022-07-22  Albania                            Good         15\n",
      "566   2022-07-22  Albania                            Good         20\n",
      "...          ...      ...                             ...        ...\n",
      "14552 2024-08-15   Zambia                       Unhealthy        174\n",
      "14681 2024-08-22   Zambia  Unhealthy for Sensitive Groups        129\n",
      "14809 2024-08-29   Zambia                       Unhealthy        153\n",
      "15194 2024-09-19   Zambia                       Unhealthy        170\n",
      "15568 2024-10-10   Zambia  Unhealthy for Sensitive Groups        138\n",
      "\n",
      "[19737 rows x 4 columns]\n"
     ]
    }
   ],
   "source": [
    "\n",
    "import pandas as pd\n",
    "aqi_data = pd.read_csv('../dataset/data_date.csv')\n",
    "aqi_data['Date'] = pd.to_datetime(aqi_data['Date'])\n",
    "\n",
    "sorted_aqi_by_country = aqi_data.sort_values(['Country', 'Date'])\n",
    "print(sorted_aqi_by_country)"
   ]
  },
  {
   "cell_type": "code",
   "execution_count": 6,
   "id": "6549939d",
   "metadata": {},
   "outputs": [
    {
     "name": "stdout",
     "output_type": "stream",
     "text": [
      "            Date                                            Country  \\\n",
      "0     2022-07-21                                            Albania   \n",
      "1     2022-07-21                                            Algeria   \n",
      "2     2022-07-21                                            Andorra   \n",
      "3     2022-07-21                                             Angola   \n",
      "4     2022-07-21                                          Argentina   \n",
      "...          ...                                                ...   \n",
      "19732 2025-06-19  United Kingdom of Great Britain and Northern I...   \n",
      "19733 2025-06-19                           United States of America   \n",
      "19734 2025-06-19                                         Uzbekistan   \n",
      "19735 2025-06-19                                            Vatican   \n",
      "19736 2025-06-19                                            Vietnam   \n",
      "\n",
      "                               Status  AQI Value  dayofweek  month  is_weekend  \n",
      "0                                Good         14          3      7       False  \n",
      "1                            Moderate         65          3      7       False  \n",
      "2                            Moderate         55          3      7       False  \n",
      "3      Unhealthy for Sensitive Groups        113          3      7       False  \n",
      "4                            Moderate         63          3      7       False  \n",
      "...                               ...        ...        ...    ...         ...  \n",
      "19732                        Moderate         61          3      6       False  \n",
      "19733                        Moderate        100          3      6       False  \n",
      "19734                            Good         19          3      6       False  \n",
      "19735                            Good         46          3      6       False  \n",
      "19736                            Good         36          3      6       False  \n",
      "\n",
      "[19737 rows x 7 columns]\n"
     ]
    }
   ],
   "source": [
    "# date and time features\n",
    "aqi_data['dayofweek'] = aqi_data['Date'].dt.dayofweek   # 0=Monday\n",
    "aqi_data['month'] = aqi_data['Date'].dt.month\n",
    "aqi_data['is_weekend'] = aqi_data['dayofweek'] >= 5\n",
    "\n",
    "\n",
    "print(aqi_data)\n"
   ]
  },
  {
   "cell_type": "code",
   "execution_count": 8,
   "id": "70c33af3",
   "metadata": {},
   "outputs": [],
   "source": [
    "# lag features (for memory of past AQI values)\n",
    "aqi_data['AQI_lag1'] = aqi_data.groupby('Country')['AQI Value'].shift(1)\n",
    "aqi_data['AQI_lag3'] = aqi_data.groupby('Country')['AQI Value'].shift(3)\n",
    "aqi_data['AQI_lag7'] = aqi_data.groupby('Country')['AQI Value'].shift(7)"
   ]
  },
  {
   "cell_type": "code",
   "execution_count": 9,
   "id": "0a26f3b0",
   "metadata": {},
   "outputs": [],
   "source": [
    "# rolling stats to capture any short-term trends\n",
    "aqi_data['AQI_roll3'] = aqi_data.groupby('Country')['AQI Value'].transform(lambda x: x.shift(1).rolling(3).mean())\n",
    "aqi_data['AQI_roll7'] = aqi_data.groupby('Country')['AQI Value'].transform(lambda x: x.shift(1).rolling(7).mean())\n",
    "aqi_data['AQI_std3'] = aqi_data.groupby('Country')['AQI Value'].transform(lambda x: x.shift(1).rolling(3).std())"
   ]
  },
  {
   "cell_type": "code",
   "execution_count": 10,
   "id": "cd9fbc3a",
   "metadata": {},
   "outputs": [],
   "source": [
    "# one-hot encoding\n",
    "aqi_data = pd.get_dummies(aqi_data, columns=['Country'], drop_first=True)"
   ]
  },
  {
   "cell_type": "code",
   "execution_count": 11,
   "id": "70a64ece",
   "metadata": {},
   "outputs": [],
   "source": [
    "# drop rows with NaNs\n",
    "aqi_data = aqi_data.dropna()"
   ]
  },
  {
   "cell_type": "code",
   "execution_count": 13,
   "id": "b70e23d6",
   "metadata": {},
   "outputs": [],
   "source": [
    "# save derived data\n",
    "aqi_data.to_csv('../dataset/processed/aqi_features.csv', index=False)"
   ]
  }
 ],
 "metadata": {
  "kernelspec": {
   "display_name": ".venv",
   "language": "python",
   "name": "python3"
  },
  "language_info": {
   "codemirror_mode": {
    "name": "ipython",
    "version": 3
   },
   "file_extension": ".py",
   "mimetype": "text/x-python",
   "name": "python",
   "nbconvert_exporter": "python",
   "pygments_lexer": "ipython3",
   "version": "3.12.6"
  }
 },
 "nbformat": 4,
 "nbformat_minor": 5
}
