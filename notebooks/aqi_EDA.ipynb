{
 "cells": [
  {
   "cell_type": "markdown",
   "id": "ebd27554",
   "metadata": {},
   "source": [
    "Exploratory Data Analysis for AQI Dataset (from Kaggle)"
   ]
  },
  {
   "cell_type": "code",
   "execution_count": 2,
   "id": "d00ea3cb",
   "metadata": {},
   "outputs": [
    {
     "name": "stdout",
     "output_type": "stream",
     "text": [
      "             Date                                            Country  \\\n",
      "0      2022-07-21                                            Albania   \n",
      "1      2022-07-21                                            Algeria   \n",
      "2      2022-07-21                                            Andorra   \n",
      "3      2022-07-21                                             Angola   \n",
      "4      2022-07-21                                          Argentina   \n",
      "...           ...                                                ...   \n",
      "19732  2025-06-19  United Kingdom of Great Britain and Northern I...   \n",
      "19733  2025-06-19                           United States of America   \n",
      "19734  2025-06-19                                         Uzbekistan   \n",
      "19735  2025-06-19                                            Vatican   \n",
      "19736  2025-06-19                                            Vietnam   \n",
      "\n",
      "                               Status  AQI Value  \n",
      "0                                Good         14  \n",
      "1                            Moderate         65  \n",
      "2                            Moderate         55  \n",
      "3      Unhealthy for Sensitive Groups        113  \n",
      "4                            Moderate         63  \n",
      "...                               ...        ...  \n",
      "19732                        Moderate         61  \n",
      "19733                        Moderate        100  \n",
      "19734                            Good         19  \n",
      "19735                            Good         46  \n",
      "19736                            Good         36  \n",
      "\n",
      "[19737 rows x 4 columns]\n"
     ]
    }
   ],
   "source": [
    "import pandas as pd\n",
    "aqi_data = pd.read_csv('../dataset/data_date.csv')\n",
    "print(aqi_data)"
   ]
  },
  {
   "cell_type": "code",
   "execution_count": 5,
   "id": "1575c2d9",
   "metadata": {},
   "outputs": [
    {
     "name": "stdout",
     "output_type": "stream",
     "text": [
      "        Date  Country  Status  AQI Value\n",
      "0      False    False   False      False\n",
      "1      False    False   False      False\n",
      "2      False    False   False      False\n",
      "3      False    False   False      False\n",
      "4      False    False   False      False\n",
      "...      ...      ...     ...        ...\n",
      "19732  False    False   False      False\n",
      "19733  False    False   False      False\n",
      "19734  False    False   False      False\n",
      "19735  False    False   False      False\n",
      "19736  False    False   False      False\n",
      "\n",
      "[19737 rows x 4 columns]\n",
      "Total missing values in each column:\n",
      " Date         0\n",
      "Country      0\n",
      "Status       0\n",
      "AQI Value    0\n",
      "dtype: int64\n"
     ]
    }
   ],
   "source": [
    "# checking for missing values\n",
    "missing_vals = aqi_data.isnull()\n",
    "total_missing_vals = missing_vals.sum()\n",
    "print(missing_vals)\n",
    "print(f\"Total missing values in each column:\\n {total_missing_vals}\")"
   ]
  }
 ],
 "metadata": {
  "kernelspec": {
   "display_name": ".venv",
   "language": "python",
   "name": "python3"
  },
  "language_info": {
   "codemirror_mode": {
    "name": "ipython",
    "version": 3
   },
   "file_extension": ".py",
   "mimetype": "text/x-python",
   "name": "python",
   "nbconvert_exporter": "python",
   "pygments_lexer": "ipython3",
   "version": "3.12.6"
  }
 },
 "nbformat": 4,
 "nbformat_minor": 5
}
